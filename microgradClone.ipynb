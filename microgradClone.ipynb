{
  "nbformat": 4,
  "nbformat_minor": 0,
  "metadata": {
    "colab": {
      "provenance": [],
      "authorship_tag": "ABX9TyPLxxohGPjKQOKH1bMwAMYC",
      "include_colab_link": true
    },
    "kernelspec": {
      "name": "python3",
      "display_name": "Python 3"
    },
    "language_info": {
      "name": "python"
    }
  },
  "cells": [
    {
      "cell_type": "markdown",
      "metadata": {
        "id": "view-in-github",
        "colab_type": "text"
      },
      "source": [
        "<a href=\"https://colab.research.google.com/github/Black-Kinetic/MindMage/blob/main/microgradClone.ipynb\" target=\"_parent\"><img src=\"https://colab.research.google.com/assets/colab-badge.svg\" alt=\"Open In Colab\"/></a>"
      ]
    },
    {
      "cell_type": "code",
      "execution_count": 724,
      "metadata": {
        "id": "iVgjXkbG5nII"
      },
      "outputs": [],
      "source": [
        "import math\n",
        "class value():\n",
        "  def __init__(self,data,_children=[],_op=''):\n",
        "    self.data=data\n",
        "    self.grad=0\n",
        "    self._prev=_children\n",
        "    self._op=_op\n",
        "\n",
        "  def __repr__(self):\n",
        "    return f'value: {self.data}'\n",
        "\n",
        "  def __add__(self,other):\n",
        "    other = other if isinstance(other,value) else value(other)\n",
        "    return value(self.data+other.data,[self,other],'+')\n",
        "\n",
        "  def __mul__(self,other):\n",
        "    other = other if isinstance(other,value) else value(other)\n",
        "    return value(self.data*other.data,[self,other],'*')\n",
        "\n",
        "  def __pow__(self,other):\n",
        "    other = other if isinstance(other,value) else value(other)\n",
        "    return value(self.data**other.data,[self,other],'**')\n",
        "\n",
        "  def relu(self):\n",
        "    a=self.data\n",
        "    return value(a *(1 if a>0 else 0.1) ,[self,],'relu')\n",
        "\n",
        "  def __radd__(self,other):\n",
        "    other=value(other)\n",
        "    return value(self.data+other.data,[self,other],'+')\n",
        "\n",
        "  def __rmul__(self,other):\n",
        "    other=value(other)\n",
        "    return value(self.data*other.data,[self,other],'*')\n",
        "\n",
        "  def __rpow__(self,other):\n",
        "    other=value(other)\n",
        "    return value(self.data**other.data,[self,other],'**')\n",
        "\n",
        "  def exp(self):\n",
        "    return value(math.exp(self.data),[self,],'exp')\n",
        "\n",
        "  def __neg__(self):\n",
        "    return self * -1\n",
        "\n",
        "  def __sub__(self,other):\n",
        "    return self+(-other)\n",
        "\n",
        "  def __rsub__(self,other):\n",
        "    return other+(-self)\n",
        "\n",
        "  def __truediv__(self,other):\n",
        "    return self*(other**-1)\n",
        "\n",
        "  def __rtruediv__(self,other):\n",
        "    return other*(self**-1)\n",
        "\n"
      ]
    },
    {
      "cell_type": "code",
      "source": [
        "import math\n",
        "def bp(node):\n",
        "  op=node._op\n",
        "  n0=node._prev[0] if len(node._prev)>0 else None\n",
        "  n1=node._prev[1] if len(node._prev)>1 else None\n",
        "  for n in node._prev:\n",
        "    if op == 'exp':\n",
        "      n.grad+=node.grad*n.data.exp()\n",
        "    if op == '+':\n",
        "      n.grad+=node.grad\n",
        "    if op == '*':\n",
        "      if n == n0:\n",
        "        n.grad += node.grad* n1.data\n",
        "      else:\n",
        "        n.grad += node.grad* n0.data\n",
        "    if op == '**':\n",
        "      if n == n0:\n",
        "        n.grad += node.grad* n1.data * (n0.data**(n1.data-1))\n",
        "      else:\n",
        "        n.grad += node.grad* node.data * math.log(abs(n0.data))\n",
        "    if op == '':\n",
        "      return\n",
        "    if op == 'relu':\n",
        "      n.grad += node.grad * (1 if n.data > 0 else 0.1)\n",
        "  for n in node._prev:\n",
        "      bp(n)  # Only call once per child!"
      ],
      "metadata": {
        "id": "sFFaieV93A__"
      },
      "execution_count": 725,
      "outputs": []
    },
    {
      "cell_type": "code",
      "source": [
        "# from graphviz import Digraph\n",
        "\n",
        "# def trace(root):\n",
        "#   nodes, edges=set(),set()\n",
        "#   def build(v):\n",
        "#     if v not in nodes:\n",
        "#       nodes.add(v)\n",
        "#       for child in v._prev:\n",
        "#         edges.add((child,v))\n",
        "#         build(child)\n",
        "#   build(root)\n",
        "#   return nodes,edges\n",
        "\n",
        "# def draw_dot(root):\n",
        "#   dot=Digraph(format='svg',graph_attr={'rankdir': 'LR'})\n",
        "#   root.grad=1\n",
        "#   bp(root)\n",
        "#   nodes,edges=trace(root)\n",
        "\n",
        "#   for n in nodes:\n",
        "#     uid=str(id(n))\n",
        "#     dot.node(name=uid,label=f'data: {n.data} | grad: {n.grad}',shape='record')\n",
        "#     if n._op:\n",
        "#       dot.node(name=uid+n._op,label=n._op)\n",
        "#       dot.edge(uid+n._op,uid)\n",
        "\n",
        "#   for n1,n2 in edges:\n",
        "#     dot.edge(str(id(n1)),str(id(n2))+n2._op)\n",
        "\n",
        "#   return dot\n",
        "\n"
      ],
      "metadata": {
        "id": "fX0GlUQ_Jb1a"
      },
      "execution_count": 726,
      "outputs": []
    },
    {
      "cell_type": "code",
      "source": [
        "import random\n",
        "class neuron():\n",
        "  def __init__(self,nin):\n",
        "    self.w=[value(random.uniform(-1,1)) for _ in range(nin)]\n",
        "    self.bias=value(random.uniform(-1,1))\n",
        "\n",
        "  def __call__(self,x):\n",
        "    act=sum(wi*xi for wi,xi in zip(self.w,x))+self.bias\n",
        "    return act.relu()\n",
        "\n",
        "  def parameters(self):\n",
        "    return self.w+[self.bias]\n",
        "\n",
        "class layer():\n",
        "  def __init__(self,nin,nout):\n",
        "    self.neurons=[neuron(nin) for _ in range(nout)]\n",
        "\n",
        "  def __call__(self,x):\n",
        "    outs=[n(x) for n in self.neurons]\n",
        "    return outs[0] if len(outs) ==1 else outs\n",
        "\n",
        "  def parameters(self):\n",
        "    return [p for n in self.neurons for p in n.parameters()]\n",
        "\n",
        "class mlp:\n",
        "  def __init__(self, nin, nouts):\n",
        "    sz=[nin]+nouts\n",
        "    self.layers=[layer(sz[i],sz[i+1]) for i in range(len(nouts))]\n",
        "  def __call__(self,x):\n",
        "    for layer in self.layers:\n",
        "      x=layer(x)\n",
        "    return x\n",
        "\n",
        "  def parameters(self):\n",
        "     return [p for l in self.layers for p in l.parameters()]"
      ],
      "metadata": {
        "id": "b5zjXntusXZY"
      },
      "execution_count": 728,
      "outputs": []
    },
    {
      "cell_type": "code",
      "source": [
        "xs=[\n",
        "    [2,3,-1],\n",
        "    [3,-1,0.5],\n",
        "    [0.5,1,1],\n",
        "    [1,1,-1],\n",
        "]\n",
        "ys=[1,-1,-1,1]"
      ],
      "metadata": {
        "id": "QTI96nX_-Ezp"
      },
      "execution_count": 729,
      "outputs": []
    },
    {
      "cell_type": "code",
      "source": [
        "Amlan=mlp(3,[4,4,1])"
      ],
      "metadata": {
        "id": "RTdosfOZ8lYJ"
      },
      "execution_count": 900,
      "outputs": []
    },
    {
      "cell_type": "code",
      "source": [
        "from IPython.display import clear_output\n",
        "while loss.data>0.001:\n",
        "  ypred=[Amlan(x) for x in xs]\n",
        "  clear_output()\n",
        "  print(ypred)\n",
        "  loss=sum([(yout-ygt)**2 for ygt,yout in zip(ys,ypred)])\n",
        "\n",
        "  for p in Amlan.parameters():\n",
        "      p.grad = 0\n",
        "\n",
        "  loss.grad=1\n",
        "  bp(loss)\n",
        "\n",
        "  for p in Amlan.parameters():\n",
        "    p.data+=-0.0001*p.grad\n",
        "\n",
        "  print('loss',loss)\n",
        "  Amlan.layers[0].neurons[0].w[0].grad\n",
        "  if loss.data>10:\n",
        "    break\n"
      ],
      "metadata": {
        "colab": {
          "base_uri": "https://localhost:8080/"
        },
        "id": "e0qaJt6Sx59I",
        "outputId": "0b71f97f-f9c0-430e-a70d-733a95119c53"
      },
      "execution_count": 905,
      "outputs": [
        {
          "output_type": "stream",
          "name": "stdout",
          "text": [
            "[value: 0.9989488972059869, value: -1.0197341094394634, value: -0.9759697121876653, value: 1.0055617247315198]\n",
            "loss value: 0.0009989274067851437\n"
          ]
        }
      ]
    },
    {
      "cell_type": "code",
      "metadata": {
        "id": "f6917371"
      },
      "source": [
        "from IPython.display import clear_output\n",
        "clear_output()"
      ],
      "execution_count": null,
      "outputs": []
    }
  ]
}